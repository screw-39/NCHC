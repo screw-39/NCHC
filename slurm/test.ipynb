{
 "cells": [
  {
   "cell_type": "code",
   "execution_count": 1,
   "metadata": {},
   "outputs": [],
   "source": [
    "import pandas as pd\n",
    "from datetime import datetime"
   ]
  },
  {
   "cell_type": "code",
   "execution_count": 2,
   "metadata": {},
   "outputs": [],
   "source": [
    "def time_translator(time):\n",
    "    # translate time(yyyy-mm-ddThh:mm:ss) into time(sec)\n",
    "    return int(datetime.strptime(time, \"%Y-%m-%dT%H:%M:%S\").timestamp())"
   ]
  },
  {
   "cell_type": "code",
   "execution_count": 3,
   "metadata": {},
   "outputs": [],
   "source": [
    "log = pd.read_parquet('./20240801_F1_log.parquet')"
   ]
  },
  {
   "cell_type": "code",
   "execution_count": 6,
   "metadata": {},
   "outputs": [
    {
     "data": {
      "text/plain": [
       "'2024-06-17T17:10:14'"
      ]
     },
     "execution_count": 6,
     "metadata": {},
     "output_type": "execute_result"
    }
   ],
   "source": [
    "log.query('Submit != \"Unknown\"').Submit.sort_values(ascending=1).iloc[0]"
   ]
  },
  {
   "cell_type": "code",
   "execution_count": 9,
   "metadata": {},
   "outputs": [
    {
     "data": {
      "text/plain": [
       "123577    2024-08-01T11:05:49\n",
       "123578    2024-08-01T11:05:49\n",
       "123579    2024-08-01T11:05:49\n",
       "123580    2024-08-01T11:05:49\n",
       "123599    2024-08-01T11:02:01\n",
       "                 ...         \n",
       "720       2024-07-01T00:01:00\n",
       "852       2024-07-01T00:00:17\n",
       "851       2024-07-01T00:00:17\n",
       "850       2024-07-01T00:00:17\n",
       "853       2024-07-01T00:00:17\n",
       "Name: End, Length: 122949, dtype: object"
      ]
     },
     "execution_count": 9,
     "metadata": {},
     "output_type": "execute_result"
    }
   ],
   "source": [
    "log.query('End != \"Unknown\"').End.sort_values(ascending=0)"
   ]
  },
  {
   "cell_type": "code",
   "execution_count": 7,
   "metadata": {},
   "outputs": [
    {
     "data": {
      "text/plain": [
       "1719763200"
      ]
     },
     "execution_count": 7,
     "metadata": {},
     "output_type": "execute_result"
    }
   ],
   "source": [
    "#log.query('Submit != \"Unknown\"').Submit.sort_values(ascending=0).iloc[3]\n",
    "time_translator('2024-07-01T00:00:00')"
   ]
  }
 ],
 "metadata": {
  "kernelspec": {
   "display_name": "base",
   "language": "python",
   "name": "python3"
  },
  "language_info": {
   "codemirror_mode": {
    "name": "ipython",
    "version": 3
   },
   "file_extension": ".py",
   "mimetype": "text/x-python",
   "name": "python",
   "nbconvert_exporter": "python",
   "pygments_lexer": "ipython3",
   "version": "3.11.7"
  }
 },
 "nbformat": 4,
 "nbformat_minor": 2
}
